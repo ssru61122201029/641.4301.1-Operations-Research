{
  "nbformat": 4,
  "nbformat_minor": 0,
  "metadata": {
    "colab": {
      "name": "case4.ipynb",
      "provenance": [],
      "include_colab_link": true
    },
    "kernelspec": {
      "name": "python3",
      "display_name": "Python 3"
    },
    "language_info": {
      "name": "python"
    }
  },
  "cells": [
    {
      "cell_type": "markdown",
      "metadata": {
        "id": "view-in-github",
        "colab_type": "text"
      },
      "source": [
        "<a href=\"https://colab.research.google.com/github/ssru61122201029/641.4301.1-Operations-Research/blob/main/641.4301.1CaseStudyPy04.ipynb\" target=\"_parent\"><img src=\"https://colab.research.google.com/assets/colab-badge.svg\" alt=\"Open In Colab\"/></a>"
      ]
    },
    {
      "cell_type": "code",
      "metadata": {
        "colab": {
          "base_uri": "https://localhost:8080/"
        },
        "id": "S71nx8zgGl4U",
        "outputId": "43180dd0-5a0f-4754-a243-96c81cb450f5"
      },
      "source": [
        "!pip install ortools"
      ],
      "execution_count": null,
      "outputs": [
        {
          "output_type": "stream",
          "text": [
            "Collecting ortools\n",
            "  Downloading ortools-9.0.9048-cp37-cp37m-manylinux1_x86_64.whl (14.4 MB)\n",
            "\u001b[K     |████████████████████████████████| 14.4 MB 90 kB/s \n",
            "\u001b[?25hRequirement already satisfied: absl-py>=0.11 in /usr/local/lib/python3.7/dist-packages (from ortools) (0.12.0)\n",
            "Requirement already satisfied: protobuf>=3.15.8 in /usr/local/lib/python3.7/dist-packages (from ortools) (3.17.3)\n",
            "Requirement already satisfied: six in /usr/local/lib/python3.7/dist-packages (from absl-py>=0.11->ortools) (1.15.0)\n",
            "Installing collected packages: ortools\n",
            "Successfully installed ortools-9.0.9048\n"
          ],
          "name": "stdout"
        }
      ]
    },
    {
      "cell_type": "code",
      "metadata": {
        "id": "kXx1w8rMGNmV"
      },
      "source": [
        "# [START program]\n",
        "# [START import]\n",
        "from ortools.linear_solver import pywraplp\n",
        "# [END import]"
      ],
      "execution_count": null,
      "outputs": []
    },
    {
      "cell_type": "code",
      "metadata": {
        "id": "qqY5SG0yGUvz"
      },
      "source": [
        "# [START solver]\n",
        "# Create the linear solver with the GLOP backend.\n",
        "solver = pywraplp.Solver.CreateSolver('GLOP')\n",
        "# [END solver]\n",
        "\n",
        "# [START variables]\n",
        "infinity = solver.infinity()\n",
        "# Create the variables x and y.\n",
        "x = solver.NumVar(0.0, infinity, 'x')\n",
        "y = solver.NumVar(0.0, infinity, 'y')\n",
        "\n",
        "print('Number of variables =', solver.NumVariables())\n",
        "# [END variables]\n",
        "\n",
        "# [START constraints]\n",
        "# 450*x + 300 * y <= 3300.\n",
        "solver.Add((400*x) + (300 * y )<= 3300)\n",
        "\n",
        "# 1.3*x + 0.9*y <= 2560.\n",
        "solver.Add((1.3*x)+(0.9*y) <= 2560)\n",
        "\n",
        "print('Number of constraints =', solver.NumConstraints())\n",
        "# [END constraints]\n",
        "\n",
        "# [START objective]\n",
        "# Maximize 1000*x + 1200 * y.\n",
        "solver.Maximize((1000*x) + (1200 * y))\n",
        "# [END objective]\n",
        "\n",
        "# [START solve]\n",
        "status = solver.Solve()\n",
        "# [END solve]\n",
        "\n",
        "# [START print_solution]\n",
        "if status == pywraplp.Solver.OPTIMAL:\n",
        "    print('Solution:')\n",
        "    print('Objective value =', solver.Objective().Value())\n",
        "    print('x =', x.solution_value())\n",
        "    print('y =', y.solution_value())\n",
        "else:\n",
        "    print('The problem does not have an optimal solution.')\n",
        "# [END print_solution]\n",
        "\n",
        "# [START advanced]\n",
        "print('\\nAdvanced usage:')\n",
        "print('Problem solved in %f milliseconds' % solver.wall_time())\n",
        "print('Problem solved in %d iterations' % solver.iterations())\n",
        "# [END advanced]\n"
      ],
      "execution_count": null,
      "outputs": []
    }
  ]
}